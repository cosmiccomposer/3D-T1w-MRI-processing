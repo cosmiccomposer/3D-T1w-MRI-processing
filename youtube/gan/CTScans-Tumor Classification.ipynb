{
 "cells": [
  {
   "cell_type": "code",
   "execution_count": 4,
   "id": "5b8ff1d7-fe28-4a30-b0f2-6531f25b5d12",
   "metadata": {},
   "outputs": [],
   "source": [
    "\n",
    "%matplotlib inline\n",
    "%config InlineBackend.figure_format = 'retina'\n",
    "\n",
    "import matplotlib.pyplot as plt\n",
    "import seaborn as sns\n",
    "import numpy as np\n",
    "import pandas as pd\n",
    "import random\n",
    "from tqdm import tqdm\n",
    "import time\n",
    "import cv2\n",
    "\n",
    "import torch.cuda\n",
    "import torch.nn as nn\n",
    "import torchvision.models as models\n",
    "from torch.nn import Linear, ReLU, MSELoss, L1Loss, Sequential, Conv2d, ConvTranspose2d, MaxPool2d, AdaptiveAvgPool2d, Module, BatchNorm2d, Sigmoid, Dropout\n",
    "import torch.optim as optim\n",
    "from torch.autograd import Variable\n",
    "from torch.utils.data import random_split\n",
    "from torchvision import datasets, transforms\n",
    "\n",
    "from pytorch_model_summary import summary\n",
    "import os"
   ]
  },
  {
   "cell_type": "code",
   "execution_count": 5,
   "id": "e0b0a368-ae36-484a-a956-bdd5cd646171",
   "metadata": {},
   "outputs": [],
   "source": [
    "import torchvision"
   ]
  },
  {
   "cell_type": "code",
   "execution_count": 6,
   "id": "f3d1b739-5463-4b71-8f79-c7bd6f55cfc0",
   "metadata": {},
   "outputs": [],
   "source": [
    "#seed everything\n",
    "seed = 42\n",
    "# python RNG\n",
    "random.seed(seed)\n",
    "# pytorch RNGs\n",
    "torch.manual_seed(seed)\n",
    "torch.backends.cudnn.deterministic = True\n",
    "if torch.cuda.is_available(): torch.cuda.manual_seed_all(seed)\n",
    "# numpy RNG\n",
    "np.random.seed(seed)"
   ]
  },
  {
   "cell_type": "code",
   "execution_count": 7,
   "id": "34738727-aeaf-4a86-883b-ef9c8da3a322",
   "metadata": {},
   "outputs": [
    {
     "name": "stdout",
     "output_type": "stream",
     "text": [
      "Is the GPU available? True\n"
     ]
    }
   ],
   "source": [
    "gpu_avail = torch.cuda.is_available()\n",
    "print(f\"Is the GPU available? {gpu_avail}\")"
   ]
  },
  {
   "cell_type": "code",
   "execution_count": 8,
   "id": "18b88f14-7ed0-4383-b28b-f56aabd97657",
   "metadata": {},
   "outputs": [
    {
     "name": "stdout",
     "output_type": "stream",
     "text": [
      "Device cuda\n"
     ]
    }
   ],
   "source": [
    "device = torch.device(\"cuda\") if torch.cuda.is_available() else torch.device(\"cpu\")\n",
    "print(\"Device\", device)"
   ]
  },
  {
   "cell_type": "code",
   "execution_count": 9,
   "id": "c3a82c8a-65c1-4fa6-b35a-83d560c841ff",
   "metadata": {},
   "outputs": [
    {
     "ename": "SyntaxError",
     "evalue": "invalid syntax (3779345914.py, line 1)",
     "output_type": "error",
     "traceback": [
      "\u001b[1;36m  Input \u001b[1;32mIn [9]\u001b[1;36m\u001b[0m\n\u001b[1;33m    data_dir =\u001b[0m\n\u001b[1;37m              ^\u001b[0m\n\u001b[1;31mSyntaxError\u001b[0m\u001b[1;31m:\u001b[0m invalid syntax\n"
     ]
    }
   ],
   "source": [
    "data_dir ="
   ]
  },
  {
   "cell_type": "code",
   "execution_count": null,
   "id": "cc761791-1637-479c-9ad6-e0f35812ec04",
   "metadata": {},
   "outputs": [],
   "source": [
    "image = plt.imread(\"../input/machinelearninghackathon/Train/glioma_tumor/2234.jpg\")\n",
    "print(f\"The shape of the images in the dataset is {image.shape}.\")\n",
    "print(\"Here is an example of an image in the dataset:\")\n",
    "plt.imshow(image)"
   ]
  },
  {
   "cell_type": "code",
   "execution_count": null,
   "id": "7b2d6e9f-49da-4c2d-81d8-d02d1991a2ec",
   "metadata": {},
   "outputs": [],
   "source": [
    "IMAGE_SIZE = 224\n",
    "BATCH_SIZE = 8 \n",
    "NUM_WORKERS = 2"
   ]
  },
  {
   "cell_type": "code",
   "execution_count": null,
   "id": "7ea4c8ea-c773-4aa6-8121-43cd1568b039",
   "metadata": {},
   "outputs": [],
   "source": [
    "def get_train_transform(IMAGE_SIZE):\n",
    "    train_transform = transforms.Compose([\n",
    "        transforms.Resize((IMAGE_SIZE, IMAGE_SIZE)),\n",
    "        transforms.RandomHorizontalFlip(p=0.5),\n",
    "        transforms.RandomVerticalFlip(p=0.5),\n",
    "        transforms.GaussianBlur(kernel_size=(5, 9), sigma=(0.1, 5)),\n",
    "        transforms.RandomAdjustSharpness(sharpness_factor=2, p=0.5),\n",
    "        transforms.ToTensor(),\n",
    "        transforms.Normalize(           #This normalization is applied as it is the same applied to the images in ImageNet\n",
    "            mean=[0.485, 0.456, 0.406], #and we'll be using Trasnfer Learning (for example EfficientNetB0)\n",
    "            std=[0.229, 0.224, 0.225]\n",
    "            )\n",
    "    ])\n",
    "    return train_transform"
   ]
  },
  {
   "cell_type": "code",
   "execution_count": null,
   "id": "f6402a8f-52e2-4308-a0c6-2e3fafa374bd",
   "metadata": {},
   "outputs": [],
   "source": [
    "dataset = datasets.ImageFolder(data_dir, transform=(get_train_transform(IMAGE_SIZE)))\n",
    "lengths = [int(len(dataset)*0.8), len(dataset)-int(len(dataset)*0.8)]\n",
    "train_dataset, val_dataset = random_split(dataset, lengths)\n",
    "train_loader = torch.utils.data.DataLoader(train_dataset, batch_size=16, num_workers=NUM_WORKERS, shuffle=True)\n",
    "valid_loader = torch.utils.data.DataLoader(val_dataset, batch_size=16, num_workers=NUM_WORKERS, shuffle=False)"
   ]
  },
  {
   "cell_type": "code",
   "execution_count": null,
   "id": "fd71659e-aead-4277-bc28-33fc564e77ed",
   "metadata": {},
   "outputs": [],
   "source": [
    "dataset.class_to_idx"
   ]
  },
  {
   "cell_type": "code",
   "execution_count": null,
   "id": "77715df8-e494-470a-a099-2c915e270a36",
   "metadata": {},
   "outputs": [],
   "source": [
    "def save_model(epochs, model, optimizer, criterion):\n",
    "    \"\"\"\n",
    "    Function to save the trained model to disk.\n",
    "    \"\"\"\n",
    "    torch.save({\n",
    "                'epoch': epochs,\n",
    "                'model_state_dict': model.state_dict(),\n",
    "                'optimizer_state_dict': optimizer.state_dict(),\n",
    "                'loss': criterion,\n",
    "                }, f\"/kaggle/working/model.pth\")\n",
    "def save_plots(train_acc, valid_acc, train_loss, valid_loss):\n",
    "    \"\"\"\n",
    "    Function to save the loss and accuracy plots to disk.\n",
    "    \"\"\"\n",
    "    # accuracy plots\n",
    "    plt.figure(figsize=(10, 7))\n",
    "    plt.plot(\n",
    "        train_acc, color='green', linestyle='-', \n",
    "        label='train accuracy'\n",
    "    )\n",
    "    plt.plot(\n",
    "        valid_acc, color='blue', linestyle='-', \n",
    "        label='validataion accuracy'\n",
    "    )\n",
    "    plt.xlabel('Epochs')\n",
    "    plt.ylabel('Accuracy')\n",
    "    plt.legend()\n",
    "    plt.savefig(f\"/kaggle/working/accuracy.png\")\n",
    "    \n",
    "    # loss plots\n",
    "    plt.figure(figsize=(10, 7))\n",
    "    plt.plot(\n",
    "        train_loss, color='orange', linestyle='-', \n",
    "        label='train loss'\n",
    "    )\n",
    "    plt.plot(\n",
    "        valid_loss, color='red', linestyle='-', \n",
    "        label='validataion loss'\n",
    "    )\n",
    "    plt.xlabel('Epochs')\n",
    "    plt.ylabel('Loss')\n",
    "    plt.legend()\n",
    "    plt.savefig(f\"/kaggle/working/loss.png\")"
   ]
  },
  {
   "cell_type": "code",
   "execution_count": null,
   "id": "db2442db-84ce-4e95-be48-ba48d8675e10",
   "metadata": {},
   "outputs": [],
   "source": [
    "def build_model(pretrained=True, fine_tune=True, num_classes=4):\n",
    "    if pretrained:\n",
    "        print('[INFO]: Loading pre-trained weights')\n",
    "    else:\n",
    "        print('[INFO]: Not loading pre-trained weights')\n",
    "    model = models.efficientnet_b0(pretrained=pretrained)\n",
    "    if fine_tune:\n",
    "        print('[INFO]: Fine-tuning all layers...')\n",
    "        for params in model.parameters():\n",
    "            params.requires_grad = True\n",
    "    elif not fine_tune:\n",
    "        print('[INFO]: Freezing hidden layers...')\n",
    "        for params in model.parameters():\n",
    "            params.requires_grad = False\n",
    "    # Change the final classification head.\n",
    "    model.classifier[1] = nn.Linear(in_features=1280, out_features=num_classes)\n",
    "    return model"
   ]
  },
  {
   "cell_type": "code",
   "execution_count": null,
   "id": "c6d38164-c637-48ae-a34c-7d04eac3fd25",
   "metadata": {},
   "outputs": [],
   "source": [
    "def train(model, trainloader, optimizer, criterion):\n",
    "    model.train()\n",
    "    print('Training')\n",
    "    train_running_loss = 0.0\n",
    "    train_running_correct = 0\n",
    "    counter = 0\n",
    "    for i, data in tqdm(enumerate(trainloader), total=len(trainloader)):\n",
    "        counter += 1\n",
    "        image, labels = data\n",
    "        image = image.to(device)\n",
    "        labels = labels.to(device)\n",
    "        optimizer.zero_grad()\n",
    "        # Forward pass.\n",
    "        outputs = model(image)\n",
    "        # Calculate the loss.\n",
    "        loss = criterion(outputs, labels)\n",
    "        train_running_loss += loss.item()\n",
    "        # Calculate the accuracy.\n",
    "        _, preds = torch.max(outputs.data, 1)\n",
    "        train_running_correct += (preds == labels).sum().item()\n",
    "        # Backpropagation\n",
    "        loss.backward()\n",
    "        # Update the weights.\n",
    "        optimizer.step()\n",
    "    \n",
    "    # Loss and accuracy for the complete epoch.\n",
    "    epoch_loss = train_running_loss / counter\n",
    "    epoch_acc = 100. * (train_running_correct / len(trainloader.dataset))\n",
    "    return epoch_loss, epoch_acc"
   ]
  },
  {
   "cell_type": "code",
   "execution_count": null,
   "id": "375dda9e-54fa-4b5e-8f49-b181265be630",
   "metadata": {},
   "outputs": [],
   "source": [
    "def validate(model, testloader, criterion):\n",
    "    model.eval()\n",
    "    print('Validation')\n",
    "    valid_running_loss = 0.0\n",
    "    valid_running_correct = 0\n",
    "    counter = 0\n",
    "    with torch.no_grad():\n",
    "        for i, data in tqdm(enumerate(testloader), total=len(testloader)):\n",
    "            counter += 1\n",
    "            \n",
    "            image, labels = data\n",
    "            image = image.to(device)\n",
    "            labels = labels.to(device)\n",
    "            # Forward pass.\n",
    "            outputs = model(image)\n",
    "            # Calculate the loss.\n",
    "            loss = criterion(outputs, labels)\n",
    "            valid_running_loss += loss.item()\n",
    "            # Calculate the accuracy.\n",
    "            _, preds = torch.max(outputs.data, 1)\n",
    "            valid_running_correct += (preds == labels).sum().item()\n",
    "        \n",
    "    # Loss and accuracy for the complete epoch.\n",
    "    epoch_loss = valid_running_loss / counter\n",
    "    epoch_acc = 100. * (valid_running_correct / len(testloader.dataset))\n",
    "    return epoch_loss, epoch_acc"
   ]
  },
  {
   "cell_type": "code",
   "execution_count": null,
   "id": "7930a022-afc3-47c0-bd35-217a934763bb",
   "metadata": {},
   "outputs": [],
   "source": [
    "args = {'learning_rate' : 0.0001, 'epochs' : 15}\n",
    "dataset_classes = dataset.class_to_idx"
   ]
  },
  {
   "cell_type": "code",
   "execution_count": null,
   "id": "bae288ef-c0a9-4b68-8bad-e12a73257199",
   "metadata": {},
   "outputs": [],
   "source": [
    "lr = args['learning_rate']\n",
    "epochs = args['epochs']\n",
    "device = ('cuda' if torch.cuda.is_available() else 'cpu')\n",
    "print(f\"Computation device: {device}\")\n",
    "print(f\"Learning rate: {lr}\")\n",
    "print(f\"Epochs to train for: {epochs}\\n\")\n",
    "model = build_model(\n",
    "    pretrained=True,\n",
    "    fine_tune=True, \n",
    "    num_classes=len(dataset_classes)\n",
    ").to(device)\n",
    "\n",
    "# Total parameters and trainable parameters.\n",
    "total_params = sum(p.numel() for p in model.parameters())\n",
    "print(f\"{total_params:,} total parameters.\")\n",
    "total_trainable_params = sum(\n",
    "    p.numel() for p in model.parameters() if p.requires_grad)\n",
    "print(f\"{total_trainable_params:,} training parameters.\")\n",
    "# Optimizer.\n",
    "optimizer = optim.Adam(model.parameters(), lr=lr)\n",
    "# Loss function.\n",
    "criterion = nn.CrossEntropyLoss()\n",
    "# Lists to keep track of losses and accuracies.\n",
    "train_loss, valid_loss = [], []\n",
    "train_acc, valid_acc = [], []\n",
    "# Start the training.\n",
    "for epoch in range(epochs):\n",
    "    print(f\"[INFO]: Epoch {epoch+1} of {epochs}\")\n",
    "    train_epoch_loss, train_epoch_acc = train(model, train_loader, \n",
    "                                            optimizer, criterion)\n",
    "    valid_epoch_loss, valid_epoch_acc = validate(model, valid_loader,  \n",
    "                                                criterion)\n",
    "    train_loss.append(train_epoch_loss)\n",
    "    valid_loss.append(valid_epoch_loss)\n",
    "    train_acc.append(train_epoch_acc)\n",
    "    valid_acc.append(valid_epoch_acc)\n",
    "    print(f\"Training loss: {train_epoch_loss:.3f}, training acc: {train_epoch_acc:.3f}\")\n",
    "    print(f\"Validation loss: {valid_epoch_loss:.3f}, validation acc: {valid_epoch_acc:.3f}\")\n",
    "    print('-'*50)\n",
    "    time.sleep(5)\n",
    "\n",
    "# Save the trained model weights.\n",
    "save_model(epochs, model, optimizer, criterion)\n",
    "# Save the loss and accuracy plots.\n",
    "save_plots(train_acc, valid_acc, train_loss, valid_loss)\n",
    "print('TRAINING COMPLETE')"
   ]
  },
  {
   "cell_type": "code",
   "execution_count": null,
   "id": "e54d3f5b-62cc-4d9d-a9ae-d46c12667612",
   "metadata": {},
   "outputs": [],
   "source": [
    "d = {'Id':[], 'Predicted':[]}"
   ]
  },
  {
   "cell_type": "code",
   "execution_count": null,
   "id": "ade9a690-2dd7-452b-860b-e2d369837097",
   "metadata": {},
   "outputs": [],
   "source": [
    "path = "
   ]
  },
  {
   "cell_type": "code",
   "execution_count": null,
   "id": "c16651ce-d547-4be9-a4e3-438d4e8b9e8d",
   "metadata": {},
   "outputs": [],
   "source": [
    "encoding_df = pd.read_csv(\"\")"
   ]
  },
  {
   "cell_type": "code",
   "execution_count": null,
   "id": "de731bb3-9e9f-4d85-abb6-adbcf4e0cf3b",
   "metadata": {},
   "outputs": [],
   "source": [
    "encoding_dict = {\"meningioma_tumor\":0, \"no_tumor\":1, \"glioma_tumor\":2, \"pituitary_tumor\":3}"
   ]
  },
  {
   "cell_type": "code",
   "execution_count": null,
   "id": "adf0afc7-c26e-4be5-9ffd-3200cae9df30",
   "metadata": {},
   "outputs": [],
   "source": [
    "# Load the trained model.\n",
    "model = build_model(pretrained=False, fine_tune=False, num_classes=4)\n",
    "checkpoint = torch.load('./model.pth', map_location='cpu')\n",
    "print('Loading trained model weights...')\n",
    "model.load_state_dict(checkpoint['model_state_dict'])"
   ]
  },
  {
   "cell_type": "code",
   "execution_count": null,
   "id": "ccfccf0a-ded4-4fe9-9b56-8e817bdb9a31",
   "metadata": {},
   "outputs": [],
   "source": [
    "for dirname, _, filenames in os.walk(path):\n",
    "    for filename in filenames:\n",
    "        image_path = os.path.join(dirname, filename)\n",
    "        d['Id'].append(filename.split('.')[0])\n",
    "        image = cv2.imread(image_path)\n",
    "        orig_image = image.copy()\n",
    "        # Preprocess the image\n",
    "        image = cv2.cvtColor(image, cv2.COLOR_BGR2RGB)\n",
    "        transform = transforms.Compose([\n",
    "            transforms.ToPILImage(),\n",
    "            transforms.Resize((IMAGE_SIZE, IMAGE_SIZE)),\n",
    "            transforms.ToTensor(),\n",
    "            transforms.Normalize(\n",
    "                mean=[0.485, 0.456, 0.406],\n",
    "                std=[0.229, 0.224, 0.225]\n",
    "            )\n",
    "        ])\n",
    "        image = transform(image)\n",
    "        image = torch.unsqueeze(image, 0)\n",
    "        image = image.to(\"cpu\")\n",
    "\n",
    "        # Forward pass throught the image.\n",
    "        outputs = model(image)\n",
    "        outputs = outputs.detach().numpy()\n",
    "        pred_class_name = encoding_dict[dataset.classes[np.argmax(outputs[0])]]\n",
    "        d['Predicted'].append(pred_class_name)"
   ]
  },
  {
   "cell_type": "code",
   "execution_count": null,
   "id": "9510ad2d-3669-478c-9f8b-af29aa388526",
   "metadata": {},
   "outputs": [],
   "source": [
    "submission = pd.DataFrame(d)"
   ]
  },
  {
   "cell_type": "code",
   "execution_count": null,
   "id": "0959c3db-a0f4-42b1-acd6-f17dc1909d86",
   "metadata": {},
   "outputs": [],
   "source": [
    "submission.to_csv(\"submission.csv\", index = False)"
   ]
  },
  {
   "cell_type": "code",
   "execution_count": null,
   "id": "2828d7e3-d5a3-4b8f-b8aa-2a256c6ae170",
   "metadata": {},
   "outputs": [],
   "source": []
  },
  {
   "cell_type": "code",
   "execution_count": null,
   "id": "41af99e2-f6f8-4d0b-abe5-c0f31f675d19",
   "metadata": {},
   "outputs": [],
   "source": []
  },
  {
   "cell_type": "code",
   "execution_count": null,
   "id": "ee4f55ad-ae7c-4c69-8dfc-b9df043318b0",
   "metadata": {},
   "outputs": [],
   "source": []
  }
 ],
 "metadata": {
  "kernelspec": {
   "display_name": "gpu2",
   "language": "python",
   "name": "gpu2"
  },
  "language_info": {
   "codemirror_mode": {
    "name": "ipython",
    "version": 3
   },
   "file_extension": ".py",
   "mimetype": "text/x-python",
   "name": "python",
   "nbconvert_exporter": "python",
   "pygments_lexer": "ipython3",
   "version": "3.9.11"
  }
 },
 "nbformat": 4,
 "nbformat_minor": 5
}
