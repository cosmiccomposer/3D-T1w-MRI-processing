{
 "cells": [
  {
   "cell_type": "code",
   "execution_count": 14,
   "id": "bd3bb9a3-da6a-4b87-85ca-52334ccda94e",
   "metadata": {},
   "outputs": [],
   "source": [
    "import torch \n",
    "import torch.nn as nn"
   ]
  },
  {
   "cell_type": "code",
   "execution_count": 15,
   "id": "25430b38-34b0-4934-8c7a-5617169ab5f7",
   "metadata": {},
   "outputs": [],
   "source": [
    "def gradient_penalty(critic, real, fake, device ='cpu'):\n",
    "    batch_size, c, h, w = real.shape\n",
    "    epsilon = torch.rand((batch_size, 1, 1, 1)).repeat(1, c, h, w).to(device)\n",
    "    interpolated_images = real * epsilon + fake * (1 - epsilon)\n",
    "    #critic score calculation\n",
    "    mixed_scores = critic(interpolated_images)\n",
    "    \n",
    "    gradient = torch.autograd.grad(\n",
    "        inputs=interpolated_images, \n",
    "        outpus=mized_scores,\n",
    "        grad_outputs=torch.ones_like(mixed_scores),\n",
    "        create_graph=True,\n",
    "        retain_graph=True,\n",
    "        \n",
    "    )[0]\n",
    "    gradient = gradient.view(gradient.shape[0], -1)\n",
    "    gradient_norm = gradient.L2norm(2, dim=1)\n",
    "    gradient_penalty = torch.mean((gradient_norm -1) ** 2)\n",
    "    return gradient_penalty\n",
    "\n",
    "\n",
    "\n"
   ]
  },
  {
   "cell_type": "code",
   "execution_count": 16,
   "id": "7bafc179-6d7f-417a-95a3-1d038bfe6771",
   "metadata": {},
   "outputs": [],
   "source": [
    "\n",
    "class Discriminator(nn.Module):\n",
    "    def __init__(self, channels_img, features_d):\n",
    "        super(Discriminator, self).__init()\n",
    "        self.disc = nn.Sequential(\n",
    "            #input: N x channels_img x 64 x 64\n",
    "            nn.Conv2d(\n",
    "                chennels_img, features_d, kernel_size=4, stride=2, padding=1),\n",
    "             nn.LeakyRelU(0.2),\n",
    "            self._block(features_d, features_d*2, 4, 2, 1), #16x16\n",
    "            self._block(features_d*2, features_d*4, 4, 2, 1),#8x8\n",
    "            self._block(features_d*4, features_d*8, 4, 2, 1), #4x4\n",
    "             nn.Conv2d(features_d*8, 1, kernel_size=4, stride=2, padding=0),\n",
    "            nn.Sigmoid()\n",
    "        )\n",
    "            \n",
    "    def _block(self, in_channels, out_channels, kernel_size, stride, padding):\n",
    "        return nn.Sequential(\n",
    "            nn.Conv2d(\n",
    "                in_channels,\n",
    "                out_channels,\n",
    "                kernel_size,\n",
    "                stride,\n",
    "                padding,\n",
    "                bias=False,\n",
    "                ),\n",
    "            nn.InstanceNorm2d(out_channels, affine=True),\n",
    "            nn.LeakyReLU(0.2),\n",
    "        )\n",
    "    def forward(self, x):\n",
    "        return self.disc(x)"
   ]
  },
  {
   "cell_type": "code",
   "execution_count": 17,
   "id": "95380b52-4c23-48c0-b7de-9795e3c829bc",
   "metadata": {},
   "outputs": [],
   "source": [
    "#train"
   ]
  },
  {
   "cell_type": "code",
   "execution_count": 18,
   "id": "0877a8fb-4627-4ad3-82a4-7bf380ba5c0e",
   "metadata": {},
   "outputs": [
    {
     "ename": "ModuleNotFoundError",
     "evalue": "No module named 'model'",
     "output_type": "error",
     "traceback": [
      "\u001b[1;31m---------------------------------------------------------------------------\u001b[0m",
      "\u001b[1;31mModuleNotFoundError\u001b[0m                       Traceback (most recent call last)",
      "Input \u001b[1;32mIn [18]\u001b[0m, in \u001b[0;36m<cell line: 9>\u001b[1;34m()\u001b[0m\n\u001b[0;32m      7\u001b[0m \u001b[38;5;28;01mimport\u001b[39;00m \u001b[38;5;21;01mtorchvision\u001b[39;00m\u001b[38;5;21;01m.\u001b[39;00m\u001b[38;5;21;01mtransforms\u001b[39;00m \u001b[38;5;28;01mas\u001b[39;00m \u001b[38;5;21;01mtransforms\u001b[39;00m\n\u001b[0;32m      8\u001b[0m \u001b[38;5;28;01mfrom\u001b[39;00m \u001b[38;5;21;01mtorch\u001b[39;00m\u001b[38;5;21;01m.\u001b[39;00m\u001b[38;5;21;01mutils\u001b[39;00m\u001b[38;5;21;01m.\u001b[39;00m\u001b[38;5;21;01mtensorboard\u001b[39;00m \u001b[38;5;28;01mimport\u001b[39;00m SummaryWriter\n\u001b[1;32m----> 9\u001b[0m \u001b[38;5;28;01mfrom\u001b[39;00m \u001b[38;5;21;01mmodel\u001b[39;00m \u001b[38;5;28;01mimport\u001b[39;00m Discriminator, Generator, initilize_weights\n\u001b[0;32m     10\u001b[0m \u001b[38;5;28;01mfrom\u001b[39;00m \u001b[38;5;21;01mutils\u001b[39;00m \u001b[38;5;28;01mimport\u001b[39;00m gradient_penalty\n",
      "\u001b[1;31mModuleNotFoundError\u001b[0m: No module named 'model'"
     ]
    }
   ],
   "source": [
    "import torch\n",
    "import torch.nn as nn\n",
    "import torch.optim as optim\n",
    "import torchvision\n",
    "import torchvision.datasets as datasets\n",
    "from torch.utils.data import DataLoader\n",
    "import torchvision.transforms as transforms\n",
    "from torch.utils.tensorboard import SummaryWriter\n",
    "from model import Discriminator, Generator, initilize_weights\n",
    "from utils import gradient_penalty"
   ]
  },
  {
   "cell_type": "code",
   "execution_count": null,
   "id": "ac1104d2-2eb8-48af-b72d-26b9f534d479",
   "metadata": {},
   "outputs": [],
   "source": [
    "device = torch.device(\"cuda\" if torch.cuda.is_available() else \"cpu\")\n",
    "learning_rate= 1e-4\n",
    "batch_size = 125\n",
    "image_size = 64\n",
    "channels_img = 1 #3\n",
    "z_dim = 100 \n",
    "num_epochs = 5\n",
    "features_disc= 64\n",
    "features_gen = 64\n",
    "critic_iterations =5\n",
    "lamda_gp = 10"
   ]
  },
  {
   "cell_type": "code",
   "execution_count": null,
   "id": "74ea1434-31d0-4ad6-a980-3047f4b30ab1",
   "metadata": {},
   "outputs": [],
   "source": [
    "transforms = transforms.Compose(\n",
    "    [\n",
    "        transforms.Resize(image_size),\n",
    "        transforms.ToTensor(),\n",
    "        transform.Normalize(\n",
    "            [0.5 for _ in range(channels_img)], [0.5 for _ in range(channels_img)]),\n",
    "    ]\n",
    ")"
   ]
  },
  {
   "cell_type": "code",
   "execution_count": null,
   "id": "190937b4-df9d-40b0-abd7-27a616f96f5a",
   "metadata": {},
   "outputs": [],
   "source": [
    "dataset = datasets.MNIST(root='dataset/', train=True, transform=transforms, download=True)\n",
    "loader = DataLoader(dataset, batch_size=batch_size, shuffle=True)\n",
    "gen = Generator(noise_dim, channels_img, features_gen).to(device)\n",
    "critic = Discriminator(channels_img, features_disc).to(device)\n",
    "initialize_weights(gen)\n",
    "nitialize_weights(disc)\n",
    "\n",
    "opt_gen = optim.Adam(gen.parameters(), lr=learning_rate, betas=(0.5, 0.9)) \n",
    "opt_disc = optim.Adam(critic.parameters(), lr=learning_rate, betas=(0.5, 0.9))"
   ]
  },
  {
   "cell_type": "code",
   "execution_count": null,
   "id": "aabf2a48-e79b-4533-bb9c-f5299e7a72e0",
   "metadata": {},
   "outputs": [],
   "source": [
    "fixed_noise = torch.rand(32, zdim, 1,1).to(device)\n",
    "\n",
    "writer_real = SummaryWriter(f'logs/real')\n",
    "writer_fake = SummaryWriter(f'logs/fake')\n",
    "\n",
    "gen.train()\n",
    "critic.train()\n",
    "\n",
    "for epoch in range (num_epochs):\n",
    "    for batch_idx, (real, _) in enumerate(loader):\n",
    "        real = real.to(device)\n",
    "        noise = torch.randn((batch_size, z_dim, 1, 1)).to(device)\n",
    "        fake = gen(noise)\n",
    "        for  - in range(critic_iterations):\n",
    "            noise = torch.randn(batch_size, z_dim, 1, 1).to(device)\n",
    "            fake = gen(noise)\n",
    "            critic_real = critic(real).reshape(-1)\n",
    "            critic_fake = critic(fake).reshape(-1)\n",
    "            gp = gradient_penalty(critic, real, fake, device=device)\n",
    "            loss_critic = (\n",
    "            -(torch.mean(critic_real) - torch.mean(critic_fake)) = lambda_gp*gp\n",
    "            )\n",
    "            loss.critic.backward(retain_graph=True)\n",
    "            opt_critic.step()\n",
    "            \n",
    "            # for p in critic.parameters\n",
    "            #     p.data.clamp_(-weight_clip, weight_clip)\n",
    "    output = critic(fake).reshape(-1)\n",
    "    loss_gen = -torch.mean(output)\n",
    "    gen.zero_grad()\n",
    "    loss_gen.backward()\n",
    "    opt_gen.step()\n",
    "        ##Train discriminator for max log(D((x))+ log(1 - D(G(z)))\n",
    "        # disc_real = disc(real.reshape(-1)\n",
    "        # loss_disc_real = criterion(disc_real, torchs.ones_like(disc_real))\n",
    "        # disc_fake = disc(fake).reshape(-1)\n",
    "        # loss_disc_fake = criterion(disc_fake, torchs.ones_like(disc_fake))\n",
    "        # loss_disc = (loss_disc_real + loss_disc_fake) / 2\n",
    "        # disc.zero_grad()\n",
    "        # loss.disc.backward(retain_graph=True)\n",
    "        # opt_disc.step()\n",
    "        # ###Train Generator min log(1 -D*G(z))) <-->  max log(D(G(z))\n",
    "        # output = disc(fake).reshape(-1)\n",
    "        # loss_gen = criterion(output, torch.ones_like(output))\n",
    "        # gen.zero_grad()\n",
    "        # loss_gen.backward()\n",
    "        # opt_gen.step()\n",
    "    if batch_idx % 100 == 0:\n",
    "        print(\n",
    "            f'Epoch [{epoch}/{num_epochs}] Batch  {batch_idx} / {len(dataloader)} \\\n",
    "                Loss D: {loss_critic:.4f}, loss G: {loss_gen:.4f}\"\n",
    "        )\n",
    "        with torch.no_grad():\n",
    "            fake = gen(fixed_noise)\n",
    "                         #dropout (0>) 32 ex\n",
    "            img_grid_real = torchvision.utils.make_grid(\n",
    "                real[:32], normalize = True\n",
    "            )\n",
    "            img_grid_fake = torchvision.utils.make_grid(\n",
    "                fake[:32], normalize = True\n",
    "            )\n",
    "                         \n",
    "            writer_real.add_image('Real', img_grid_real, global_step=step)\n",
    "            writer_fake.add_image('Fake', img_grid_fake, global_step=step)\n",
    "        step += 1"
   ]
  },
  {
   "cell_type": "code",
   "execution_count": null,
   "id": "cfc75661-bbab-43e1-9197-6b58216d8605",
   "metadata": {},
   "outputs": [],
   "source": []
  },
  {
   "cell_type": "code",
   "execution_count": null,
   "id": "e1d9a681-2f04-48c0-a7ef-74da4adcdd3e",
   "metadata": {},
   "outputs": [],
   "source": []
  },
  {
   "cell_type": "code",
   "execution_count": null,
   "id": "af813621-47ea-4720-8aca-d247b3c7aba3",
   "metadata": {},
   "outputs": [],
   "source": []
  }
 ],
 "metadata": {
  "kernelspec": {
   "display_name": "gpu2",
   "language": "python",
   "name": "gpu2"
  },
  "language_info": {
   "codemirror_mode": {
    "name": "ipython",
    "version": 3
   },
   "file_extension": ".py",
   "mimetype": "text/x-python",
   "name": "python",
   "nbconvert_exporter": "python",
   "pygments_lexer": "ipython3",
   "version": "3.9.11"
  }
 },
 "nbformat": 4,
 "nbformat_minor": 5
}
